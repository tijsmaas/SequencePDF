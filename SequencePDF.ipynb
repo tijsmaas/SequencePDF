{
 "cells": [
  {
   "cell_type": "markdown",
   "metadata": {},
   "source": [
    "# Extract DNA/RNA sequence from PDF document\n",
    "\n",
    "Experimental method to extract DNA/RNA from PDF documents. Use with extreme caution: always validate the extracted sequence!\n",
    "\n",
    "## Donate! ☕️💸🍻\n",
    "If this saves you time/money, consider buying me a coffee: \n",
    "\n",
    "(BTC) 168QyFEEeYLNNJewdqWkYAZf6Yur1V5k7L\n",
    "\n",
    "(ETH) 0x9504207811248D1EE8833B090Dfb6494619C3A39\n",
    "\n",
    "Thank you!\n",
    "\n",
    "## License\n",
    "Permission is hereby granted, free of charge, to any person obtaining a copy of this software and associated documentation files (the \"Software\"), to deal in the Software without restriction, including without limitation the rights to use, copy, modify, merge, publish, distribute, sublicense, and/or sell copies of the Software, and to permit persons to whom the Software is furnished to do so, subject to the following conditions:\n",
    "\n",
    "The above copyright notice and this permission notice shall be included in all copies or substantial portions of the Software.\n",
    "\n",
    "THE SOFTWARE IS PROVIDED \"AS IS\", WITHOUT WARRANTY OF ANY KIND, EXPRESS OR IMPLIED, INCLUDING BUT NOT LIMITED TO THE WARRANTIES OF MERCHANTABILITY, FITNESS FOR A PARTICULAR PURPOSE AND NONINFRINGEMENT. IN NO EVENT SHALL THE AUTHORS OR COPYRIGHT HOLDERS BE LIABLE FOR ANY CLAIM, DAMAGES OR OTHER LIABILITY, WHETHER IN AN ACTION OF CONTRACT, TORT OR OTHERWISE, ARISING FROM, OUT OF OR IN CONNECTION WITH THE SOFTWARE OR THE USE OR OTHER DEALINGS IN THE SOFTWARE."
   ]
  },
  {
   "cell_type": "code",
   "execution_count": null,
   "metadata": {},
   "outputs": [],
   "source": [
    "!pip install pdfquery\n",
    "\n",
    "# https://github.com/jcushman/pdfquery\n",
    "import pdfquery\n",
    "\n",
    "# Download files from e.g. https://www.bio.purdue.edu/people/faculty/gelvin/nsf/protocols_vectors.htm\n",
    "f_pdf = 'pSAT6-EYFP-N1_(pE3225)_seq.pdf'\n",
    "\n",
    "pdf = pdfquery.PDFQuery(f_pdf)\n",
    "assert pdf.doc.is_extractable\n",
    "\n",
    "print('Load takes extremely long (up to 15 minutes)')\n",
    "print('This is due to some inefficient pattern matching in the library')\n",
    "pdf.load()"
   ]
  },
  {
   "cell_type": "code",
   "execution_count": null,
   "metadata": {},
   "outputs": [],
   "source": [
    "from lxml import etree\n",
    "import sys\n",
    "from IPython.core.display import display, HTML\n",
    "\n",
    "# Inspect what a line of DNA code looks like in the pdf (xml)\n",
    "root = pdf.pq(':contains(\"TCAC\")')[2]\n",
    "innerxml = etree.tostring(root, pretty_print=True)\n",
    "html = innerxml.decode(sys.stdout.encoding)\n",
    "\n",
    "print(\"PDF XML:\")\n",
    "display(HTML(html))\n",
    "print(\"PDF XML:\")\n",
    "display(html)"
   ]
  },
  {
   "cell_type": "code",
   "execution_count": null,
   "metadata": {},
   "outputs": [],
   "source": [
    "root = pdf.tree\n",
    "file_xml = etree.tostring(root, pretty_print=True)\n",
    "# print (file_xml)"
   ]
  },
  {
   "cell_type": "code",
   "execution_count": null,
   "metadata": {},
   "outputs": [],
   "source": [
    "# Find xml parent of sequence:\n",
    "#  in the documents tested so far, the DNA text was inside LTTextLineHorizontal, \n",
    "#  which has the property word_margin. Other LTTextLineHorizontal elements that \n",
    "#  did not have DNA has the index attribute specified.\n",
    "\n",
    "items = root.findall(\".//LTTextLineHorizontal[@word_margin]\")\n",
    "err_items = []\n",
    "# sequence contains two arrays (strands)\n",
    "sequence = [[], []]\n",
    "output = ''\n",
    "line = 1\n",
    "for item in items:\n",
    "    # Specify conditions to exclude elements that do not contain DNA/RNA.\n",
    "    if 'index' not in item.attrib:\n",
    "        # Validatate that our text is indeed the genetic code\n",
    "        seq = item.text.strip()\n",
    "        no_seq = seq.replace('T', '').replace('C', '').replace('A', '').replace('G', '').strip()\n",
    "        if len(no_seq) > 0:\n",
    "            err_items.append(item)\n",
    "        elif len(seq) > 0:\n",
    "            sequence_len = sum([len(\"\".join(x.split())) for x in sequence[(line + 1) % 2]])\n",
    "            # Add sequence line to one of the strands\n",
    "            sequence[(line + 1) % 2].append(seq)\n",
    "            output += str(sequence_len + 1) + '\\t' + seq + '\\n'\n",
    "            if line % 2 == 0: output += '\\n'\n",
    "            line += 1\n",
    "\n",
    "assert len(sequence[0]) == len(sequence[1]), 'sequence strands are not of same length, something is missing!'\n",
    "\n",
    "print (len(err_items), 'remarks (non-sequence text) found.')\n",
    "print('WARN: COPYING THE SEQUENCE DIRECTLY WILL NOT WORK!!')\n",
    "print('Check if this sequence is correct (length, end, etc) then copy from the *next* cell to Benchling\\n')\n",
    "print(output)\n",
    "print('WARN: DO NOT COPY SEQUENCE DIRECTLY!! Check the length and copy from the *next* cell to Benchling\\n')"
   ]
  },
  {
   "cell_type": "markdown",
   "metadata": {},
   "source": [
    "**Copy (single strand) output in this cell to Benchling:**"
   ]
  },
  {
   "cell_type": "code",
   "execution_count": null,
   "metadata": {},
   "outputs": [],
   "source": [
    "print(\"\".join(sequence[0]))"
   ]
  },
  {
   "cell_type": "markdown",
   "metadata": {},
   "source": [
    "### Errors/remarks found during parsing:"
   ]
  },
  {
   "cell_type": "code",
   "execution_count": null,
   "metadata": {},
   "outputs": [],
   "source": [
    "for i in err_items:\n",
    "    print(i.text)"
   ]
  }
 ],
 "metadata": {
  "kernelspec": {
   "display_name": "Python 3",
   "language": "python",
   "name": "python3"
  },
  "language_info": {
   "codemirror_mode": {
    "name": "ipython",
    "version": 3
   },
   "file_extension": ".py",
   "mimetype": "text/x-python",
   "name": "python",
   "nbconvert_exporter": "python",
   "pygments_lexer": "ipython3",
   "version": "3.7.6"
  }
 },
 "nbformat": 4,
 "nbformat_minor": 4
}
